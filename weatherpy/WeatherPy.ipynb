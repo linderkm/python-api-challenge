{
 "cells": [
  {
   "cell_type": "markdown",
   "metadata": {},
   "source": [
    "# WeatherPy\n",
    "\n",
    "---\n",
    "\n",
    "## Starter Code to Generate Random Geographic Coordinates and a List of Cities"
   ]
  },
  {
   "cell_type": "code",
   "execution_count": 1,
   "metadata": {
    "scrolled": true
   },
   "outputs": [],
   "source": [
    "# Dependencies and Setup\n",
    "import matplotlib.pyplot as plt\n",
    "import pandas as pd\n",
    "import numpy as np\n",
    "import requests\n",
    "import time\n",
    "from scipy.stats import linregress\n",
    "from pprint import pprint\n",
    "\n",
    "# Impor the OpenWeatherMap API key\n",
    "from api_keys import weather_api_key\n",
    "\n",
    "# Import citipy to determine the cities based on latitude and longitude\n",
    "from citipy import citipy"
   ]
  },
  {
   "cell_type": "markdown",
   "metadata": {},
   "source": [
    "### Generate the Cities List by Using the `citipy` Library"
   ]
  },
  {
   "cell_type": "code",
   "execution_count": 2,
   "metadata": {},
   "outputs": [
    {
     "name": "stdout",
     "output_type": "stream",
     "text": [
      "Number of cities in the list: 596\n",
      "Number of cities in the list: 10\n"
     ]
    }
   ],
   "source": [
    "# Empty list for holding the latitude and longitude combinations\n",
    "lat_lngs = []\n",
    "\n",
    "# Empty list for holding the cities names\n",
    "cities = []\n",
    "\n",
    "# Range of latitudes and longitudes\n",
    "lat_range = (-90, 90)\n",
    "lng_range = (-180, 180)\n",
    "\n",
    "# Create a set of random lat and lng combinations\n",
    "lats = np.random.uniform(lat_range[0], lat_range[1], size=1500)\n",
    "lngs = np.random.uniform(lng_range[0], lng_range[1], size=1500)\n",
    "lat_lngs = zip(lats, lngs)\n",
    "\n",
    "\n",
    "# Identify nearest city for each lat, lng combination\n",
    "for lat_lng in lat_lngs:\n",
    "    city = citipy.nearest_city(lat_lng[0], lat_lng[1]).city_name\n",
    "\n",
    "    # If the city is unique, then add it to a our cities list\n",
    "    if city not in cities:\n",
    "        cities.append(city)\n",
    "\n",
    "# Print the city count to confirm sufficient count\n",
    "print(f\"Number of cities in the list: {len(cities)}\")\n",
    "\n",
    "#creating a sample list for testing, to avoid running into openweather's api free query limit.\n",
    "cities_test = cities[0:10]\n",
    "print(f\"Number of cities in the list: {len(cities_test)}\")"
   ]
  },
  {
   "cell_type": "markdown",
   "metadata": {},
   "source": [
    "---"
   ]
  },
  {
   "cell_type": "markdown",
   "metadata": {},
   "source": [
    "## Requirement 1: Create Plots to Showcase the Relationship Between Weather Variables and Latitude\n",
    "\n",
    "### Use the OpenWeatherMap API to retrieve weather data from the cities list generated in the started code"
   ]
  },
  {
   "cell_type": "code",
   "execution_count": 3,
   "metadata": {},
   "outputs": [
    {
     "name": "stdout",
     "output_type": "stream",
     "text": [
      "Beginning Data Retrieval     \n",
      "-----------------------------\n",
      "Processing Record 1 of Set 1 | santa rita\n",
      "Processing Record 2 of Set 1 | petropavlovsk-kamchatsky\n",
      "Processing Record 3 of Set 1 | taiohae\n",
      "taiohae not found. Skipping...\n",
      "Processing Record 4 of Set 1 | richmond\n",
      "Processing Record 5 of Set 1 | shalqar\n",
      "Processing Record 6 of Set 1 | college\n",
      "Processing Record 7 of Set 1 | bethel\n",
      "Processing Record 8 of Set 1 | eyl\n",
      "Processing Record 9 of Set 1 | constantia\n",
      "Processing Record 10 of Set 1 | puerto natales\n",
      "-----------------------------\n",
      "Data Retrieval Complete      \n",
      "-----------------------------\n"
     ]
    }
   ],
   "source": [
    "# Set the API base URL\n",
    "base_url = \"https://api.openweathermap.org/data/2.5/weather\"\n",
    "\n",
    "# Define an empty list to fetch the weather data for each city\n",
    "city_data = []\n",
    "\n",
    "# Print to logger\n",
    "print(\"Beginning Data Retrieval     \")\n",
    "print(\"-----------------------------\")\n",
    "\n",
    "# Create counters\n",
    "record_count = 1\n",
    "set_count = 1\n",
    "\n",
    "# Loop through all the cities in our list to fetch weather data\n",
    "for i, city in enumerate(cities_test):\n",
    "\n",
    "    # Group cities in sets of 50 for logging purposes\n",
    "    if (i % 50 == 0 and i >= 50):\n",
    "        set_count += 1\n",
    "        record_count = 0\n",
    "\n",
    "    # Create endpoint URL with each city, using endpoint 'q=' to pass in city name. API documentation at source (1)\n",
    "    #city_url = f\"{base_url}?q={city}&appid={weather_api_key}\"\n",
    "\n",
    "    #setting API call parameters in dictionary, to later pass into requests.get() (2)\n",
    "    params={\"q\":city, \"appid\":weather_api_key, \"units\":'metric'}\n",
    "\n",
    "    # Log the url, record, and set numbers\n",
    "    print(\"Processing Record %s of Set %s | %s\" % (record_count, set_count, city))\n",
    "\n",
    "    # Add 1 to the record count\n",
    "    record_count += 1\n",
    "\n",
    "    # Run an API request for each of the cities\n",
    "    try:\n",
    "        # Parse the JSON and retrieve data\n",
    "        city_weather = requests.get(base_url,params=params).json()\n",
    "\n",
    "        # Parse out latitude, longitude, max temp, humidity, cloudiness, wind speed, country, and date\n",
    "        city_lat = city_weather[\"coord\"][\"lat\"]\n",
    "        city_lng = city_weather[\"coord\"][\"lon\"]\n",
    "        city_max_temp = city_weather[\"main\"][\"temp_max\"]\n",
    "        city_humidity = city_weather[\"main\"][\"humidity\"]\n",
    "        city_clouds = city_weather[\"clouds\"][\"all\"]\n",
    "        city_wind = city_weather[\"wind\"][\"speed\"]\n",
    "        city_country = city_weather[\"sys\"][\"country\"]\n",
    "        city_date = city_weather[\"dt\"] #leaving data in unix timestamp format\n",
    "\n",
    "        # Append the City information into city_data list\n",
    "        city_data.append({\"City\": city,\n",
    "                          \"Lat\": city_lat,\n",
    "                          \"Lng\": city_lng,\n",
    "                          \"Max Temp\": city_max_temp,\n",
    "                          \"Humidity\": city_humidity,\n",
    "                          \"Cloudiness\": city_clouds,\n",
    "                          \"Wind Speed\": city_wind,\n",
    "                          \"Country\": city_country,\n",
    "                          \"Date\": city_date})\n",
    "\n",
    "    # If an error is experienced, skip the city\n",
    "    except:\n",
    "        print(f\"{city} not found. Skipping...\")\n",
    "        pass\n",
    "\n",
    "    # pause to avoid rate limiting\n",
    "    time.sleep(1)\n",
    "\n",
    "# Indicate that Data Loading is complete\n",
    "print(\"-----------------------------\")\n",
    "print(\"Data Retrieval Complete      \")\n",
    "print(\"-----------------------------\")"
   ]
  },
  {
   "cell_type": "code",
   "execution_count": null,
   "metadata": {
    "scrolled": true
   },
   "outputs": [],
   "source": [
    "pprint(city_data[0])"
   ]
  },
  {
   "cell_type": "code",
   "execution_count": 4,
   "metadata": {},
   "outputs": [
    {
     "data": {
      "text/plain": [
       "City          9\n",
       "Lat           9\n",
       "Lng           9\n",
       "Max Temp      9\n",
       "Humidity      9\n",
       "Cloudiness    9\n",
       "Wind Speed    9\n",
       "Country       9\n",
       "Date          9\n",
       "dtype: int64"
      ]
     },
     "execution_count": 4,
     "metadata": {},
     "output_type": "execute_result"
    }
   ],
   "source": [
    "# Convert the cities weather data into a Pandas DataFrame\n",
    "city_data_df = pd.DataFrame(city_data)\n",
    "\n",
    "# Show Record Count\n",
    "city_data_df.count()"
   ]
  },
  {
   "cell_type": "code",
   "execution_count": 5,
   "metadata": {},
   "outputs": [
    {
     "data": {
      "text/html": [
       "<div>\n",
       "<style scoped>\n",
       "    .dataframe tbody tr th:only-of-type {\n",
       "        vertical-align: middle;\n",
       "    }\n",
       "\n",
       "    .dataframe tbody tr th {\n",
       "        vertical-align: top;\n",
       "    }\n",
       "\n",
       "    .dataframe thead th {\n",
       "        text-align: right;\n",
       "    }\n",
       "</style>\n",
       "<table border=\"1\" class=\"dataframe\">\n",
       "  <thead>\n",
       "    <tr style=\"text-align: right;\">\n",
       "      <th></th>\n",
       "      <th>City</th>\n",
       "      <th>Lat</th>\n",
       "      <th>Lng</th>\n",
       "      <th>Max Temp</th>\n",
       "      <th>Humidity</th>\n",
       "      <th>Cloudiness</th>\n",
       "      <th>Wind Speed</th>\n",
       "      <th>Country</th>\n",
       "      <th>Date</th>\n",
       "    </tr>\n",
       "  </thead>\n",
       "  <tbody>\n",
       "    <tr>\n",
       "      <th>0</th>\n",
       "      <td>santa rita</td>\n",
       "      <td>-7.1139</td>\n",
       "      <td>-34.9781</td>\n",
       "      <td>26.37</td>\n",
       "      <td>89</td>\n",
       "      <td>75</td>\n",
       "      <td>4.63</td>\n",
       "      <td>BR</td>\n",
       "      <td>1730084063</td>\n",
       "    </tr>\n",
       "    <tr>\n",
       "      <th>1</th>\n",
       "      <td>petropavlovsk-kamchatsky</td>\n",
       "      <td>53.0452</td>\n",
       "      <td>158.6483</td>\n",
       "      <td>3.33</td>\n",
       "      <td>45</td>\n",
       "      <td>75</td>\n",
       "      <td>3.00</td>\n",
       "      <td>RU</td>\n",
       "      <td>1730084064</td>\n",
       "    </tr>\n",
       "    <tr>\n",
       "      <th>2</th>\n",
       "      <td>richmond</td>\n",
       "      <td>37.5538</td>\n",
       "      <td>-77.4603</td>\n",
       "      <td>8.41</td>\n",
       "      <td>87</td>\n",
       "      <td>0</td>\n",
       "      <td>0.00</td>\n",
       "      <td>US</td>\n",
       "      <td>1730083801</td>\n",
       "    </tr>\n",
       "    <tr>\n",
       "      <th>3</th>\n",
       "      <td>shalqar</td>\n",
       "      <td>47.8333</td>\n",
       "      <td>59.6000</td>\n",
       "      <td>2.55</td>\n",
       "      <td>88</td>\n",
       "      <td>99</td>\n",
       "      <td>4.29</td>\n",
       "      <td>KZ</td>\n",
       "      <td>1730084068</td>\n",
       "    </tr>\n",
       "    <tr>\n",
       "      <th>4</th>\n",
       "      <td>college</td>\n",
       "      <td>64.8569</td>\n",
       "      <td>-147.8028</td>\n",
       "      <td>-13.01</td>\n",
       "      <td>82</td>\n",
       "      <td>40</td>\n",
       "      <td>2.57</td>\n",
       "      <td>US</td>\n",
       "      <td>1730084069</td>\n",
       "    </tr>\n",
       "    <tr>\n",
       "      <th>5</th>\n",
       "      <td>bethel</td>\n",
       "      <td>41.3712</td>\n",
       "      <td>-73.4140</td>\n",
       "      <td>6.30</td>\n",
       "      <td>55</td>\n",
       "      <td>100</td>\n",
       "      <td>1.44</td>\n",
       "      <td>US</td>\n",
       "      <td>1730084070</td>\n",
       "    </tr>\n",
       "    <tr>\n",
       "      <th>6</th>\n",
       "      <td>eyl</td>\n",
       "      <td>7.9803</td>\n",
       "      <td>49.8164</td>\n",
       "      <td>25.87</td>\n",
       "      <td>82</td>\n",
       "      <td>90</td>\n",
       "      <td>2.39</td>\n",
       "      <td>SO</td>\n",
       "      <td>1730084071</td>\n",
       "    </tr>\n",
       "    <tr>\n",
       "      <th>7</th>\n",
       "      <td>constantia</td>\n",
       "      <td>44.1833</td>\n",
       "      <td>28.6500</td>\n",
       "      <td>6.38</td>\n",
       "      <td>81</td>\n",
       "      <td>37</td>\n",
       "      <td>4.50</td>\n",
       "      <td>RO</td>\n",
       "      <td>1730084072</td>\n",
       "    </tr>\n",
       "    <tr>\n",
       "      <th>8</th>\n",
       "      <td>puerto natales</td>\n",
       "      <td>-51.7236</td>\n",
       "      <td>-72.4875</td>\n",
       "      <td>7.05</td>\n",
       "      <td>90</td>\n",
       "      <td>100</td>\n",
       "      <td>8.35</td>\n",
       "      <td>CL</td>\n",
       "      <td>1730084073</td>\n",
       "    </tr>\n",
       "  </tbody>\n",
       "</table>\n",
       "</div>"
      ],
      "text/plain": [
       "                       City      Lat       Lng  Max Temp  Humidity  \\\n",
       "0                santa rita  -7.1139  -34.9781     26.37        89   \n",
       "1  petropavlovsk-kamchatsky  53.0452  158.6483      3.33        45   \n",
       "2                  richmond  37.5538  -77.4603      8.41        87   \n",
       "3                   shalqar  47.8333   59.6000      2.55        88   \n",
       "4                   college  64.8569 -147.8028    -13.01        82   \n",
       "5                    bethel  41.3712  -73.4140      6.30        55   \n",
       "6                       eyl   7.9803   49.8164     25.87        82   \n",
       "7                constantia  44.1833   28.6500      6.38        81   \n",
       "8            puerto natales -51.7236  -72.4875      7.05        90   \n",
       "\n",
       "   Cloudiness  Wind Speed Country        Date  \n",
       "0          75        4.63      BR  1730084063  \n",
       "1          75        3.00      RU  1730084064  \n",
       "2           0        0.00      US  1730083801  \n",
       "3          99        4.29      KZ  1730084068  \n",
       "4          40        2.57      US  1730084069  \n",
       "5         100        1.44      US  1730084070  \n",
       "6          90        2.39      SO  1730084071  \n",
       "7          37        4.50      RO  1730084072  \n",
       "8         100        8.35      CL  1730084073  "
      ]
     },
     "execution_count": 5,
     "metadata": {},
     "output_type": "execute_result"
    }
   ],
   "source": [
    "# Display sample data\n",
    "city_data_df.head(10)"
   ]
  },
  {
   "cell_type": "code",
   "execution_count": 6,
   "metadata": {},
   "outputs": [],
   "source": [
    "# Export the City_Data into a csv\n",
    "city_data_df.to_csv(\"output_data/cities.csv\", index_label=\"City_ID\")"
   ]
  },
  {
   "cell_type": "code",
   "execution_count": 7,
   "metadata": {},
   "outputs": [
    {
     "data": {
      "text/html": [
       "<div>\n",
       "<style scoped>\n",
       "    .dataframe tbody tr th:only-of-type {\n",
       "        vertical-align: middle;\n",
       "    }\n",
       "\n",
       "    .dataframe tbody tr th {\n",
       "        vertical-align: top;\n",
       "    }\n",
       "\n",
       "    .dataframe thead th {\n",
       "        text-align: right;\n",
       "    }\n",
       "</style>\n",
       "<table border=\"1\" class=\"dataframe\">\n",
       "  <thead>\n",
       "    <tr style=\"text-align: right;\">\n",
       "      <th></th>\n",
       "      <th>City</th>\n",
       "      <th>Lat</th>\n",
       "      <th>Lng</th>\n",
       "      <th>Max Temp</th>\n",
       "      <th>Humidity</th>\n",
       "      <th>Cloudiness</th>\n",
       "      <th>Wind Speed</th>\n",
       "      <th>Country</th>\n",
       "      <th>Date</th>\n",
       "    </tr>\n",
       "    <tr>\n",
       "      <th>City_ID</th>\n",
       "      <th></th>\n",
       "      <th></th>\n",
       "      <th></th>\n",
       "      <th></th>\n",
       "      <th></th>\n",
       "      <th></th>\n",
       "      <th></th>\n",
       "      <th></th>\n",
       "      <th></th>\n",
       "    </tr>\n",
       "  </thead>\n",
       "  <tbody>\n",
       "    <tr>\n",
       "      <th>0</th>\n",
       "      <td>santa rita</td>\n",
       "      <td>-7.1139</td>\n",
       "      <td>-34.9781</td>\n",
       "      <td>26.37</td>\n",
       "      <td>89</td>\n",
       "      <td>75</td>\n",
       "      <td>4.63</td>\n",
       "      <td>BR</td>\n",
       "      <td>1730084063</td>\n",
       "    </tr>\n",
       "    <tr>\n",
       "      <th>1</th>\n",
       "      <td>petropavlovsk-kamchatsky</td>\n",
       "      <td>53.0452</td>\n",
       "      <td>158.6483</td>\n",
       "      <td>3.33</td>\n",
       "      <td>45</td>\n",
       "      <td>75</td>\n",
       "      <td>3.00</td>\n",
       "      <td>RU</td>\n",
       "      <td>1730084064</td>\n",
       "    </tr>\n",
       "    <tr>\n",
       "      <th>2</th>\n",
       "      <td>richmond</td>\n",
       "      <td>37.5538</td>\n",
       "      <td>-77.4603</td>\n",
       "      <td>8.41</td>\n",
       "      <td>87</td>\n",
       "      <td>0</td>\n",
       "      <td>0.00</td>\n",
       "      <td>US</td>\n",
       "      <td>1730083801</td>\n",
       "    </tr>\n",
       "    <tr>\n",
       "      <th>3</th>\n",
       "      <td>shalqar</td>\n",
       "      <td>47.8333</td>\n",
       "      <td>59.6000</td>\n",
       "      <td>2.55</td>\n",
       "      <td>88</td>\n",
       "      <td>99</td>\n",
       "      <td>4.29</td>\n",
       "      <td>KZ</td>\n",
       "      <td>1730084068</td>\n",
       "    </tr>\n",
       "    <tr>\n",
       "      <th>4</th>\n",
       "      <td>college</td>\n",
       "      <td>64.8569</td>\n",
       "      <td>-147.8028</td>\n",
       "      <td>-13.01</td>\n",
       "      <td>82</td>\n",
       "      <td>40</td>\n",
       "      <td>2.57</td>\n",
       "      <td>US</td>\n",
       "      <td>1730084069</td>\n",
       "    </tr>\n",
       "    <tr>\n",
       "      <th>5</th>\n",
       "      <td>bethel</td>\n",
       "      <td>41.3712</td>\n",
       "      <td>-73.4140</td>\n",
       "      <td>6.30</td>\n",
       "      <td>55</td>\n",
       "      <td>100</td>\n",
       "      <td>1.44</td>\n",
       "      <td>US</td>\n",
       "      <td>1730084070</td>\n",
       "    </tr>\n",
       "    <tr>\n",
       "      <th>6</th>\n",
       "      <td>eyl</td>\n",
       "      <td>7.9803</td>\n",
       "      <td>49.8164</td>\n",
       "      <td>25.87</td>\n",
       "      <td>82</td>\n",
       "      <td>90</td>\n",
       "      <td>2.39</td>\n",
       "      <td>SO</td>\n",
       "      <td>1730084071</td>\n",
       "    </tr>\n",
       "    <tr>\n",
       "      <th>7</th>\n",
       "      <td>constantia</td>\n",
       "      <td>44.1833</td>\n",
       "      <td>28.6500</td>\n",
       "      <td>6.38</td>\n",
       "      <td>81</td>\n",
       "      <td>37</td>\n",
       "      <td>4.50</td>\n",
       "      <td>RO</td>\n",
       "      <td>1730084072</td>\n",
       "    </tr>\n",
       "    <tr>\n",
       "      <th>8</th>\n",
       "      <td>puerto natales</td>\n",
       "      <td>-51.7236</td>\n",
       "      <td>-72.4875</td>\n",
       "      <td>7.05</td>\n",
       "      <td>90</td>\n",
       "      <td>100</td>\n",
       "      <td>8.35</td>\n",
       "      <td>CL</td>\n",
       "      <td>1730084073</td>\n",
       "    </tr>\n",
       "  </tbody>\n",
       "</table>\n",
       "</div>"
      ],
      "text/plain": [
       "                             City      Lat       Lng  Max Temp  Humidity  \\\n",
       "City_ID                                                                    \n",
       "0                      santa rita  -7.1139  -34.9781     26.37        89   \n",
       "1        petropavlovsk-kamchatsky  53.0452  158.6483      3.33        45   \n",
       "2                        richmond  37.5538  -77.4603      8.41        87   \n",
       "3                         shalqar  47.8333   59.6000      2.55        88   \n",
       "4                         college  64.8569 -147.8028    -13.01        82   \n",
       "5                          bethel  41.3712  -73.4140      6.30        55   \n",
       "6                             eyl   7.9803   49.8164     25.87        82   \n",
       "7                      constantia  44.1833   28.6500      6.38        81   \n",
       "8                  puerto natales -51.7236  -72.4875      7.05        90   \n",
       "\n",
       "         Cloudiness  Wind Speed Country        Date  \n",
       "City_ID                                              \n",
       "0                75        4.63      BR  1730084063  \n",
       "1                75        3.00      RU  1730084064  \n",
       "2                 0        0.00      US  1730083801  \n",
       "3                99        4.29      KZ  1730084068  \n",
       "4                40        2.57      US  1730084069  \n",
       "5               100        1.44      US  1730084070  \n",
       "6                90        2.39      SO  1730084071  \n",
       "7                37        4.50      RO  1730084072  \n",
       "8               100        8.35      CL  1730084073  "
      ]
     },
     "execution_count": 7,
     "metadata": {},
     "output_type": "execute_result"
    }
   ],
   "source": [
    "# Read saved data\n",
    "city_data_df = pd.read_csv(\"output_data/cities.csv\", index_col=\"City_ID\")\n",
    "\n",
    "# Display sample data\n",
    "city_data_df.head(10)"
   ]
  },
  {
   "cell_type": "markdown",
   "metadata": {},
   "source": [
    "### Create the Scatter Plots Requested\n",
    "\n",
    "#### Latitude Vs. Temperature"
   ]
  },
  {
   "cell_type": "code",
   "execution_count": 12,
   "metadata": {
    "tags": []
   },
   "outputs": [
    {
     "data": {
      "image/png": "[encoded data removed]",
      "text/plain": [
       "<Figure size 640x480 with 1 Axes>"
      ]
     },
     "metadata": {},
     "output_type": "display_data"
    }
   ],
   "source": [
    "# Build scatter plot for latitude vs. temperature\n",
    "x_axis = city_data_df[\"Lat\"]\n",
    "y_axis = city_data_df[\"Max Temp\"]\n",
    "\n",
    "plt.scatter(x_axis, y_axis, color = 'r')\n",
    "# Incorporate the other graph properties\n",
    "\n",
    "plt.title(\"Latitude vs Maximum Temperature (c)\")\n",
    "plt.xlabel(\"Latitude\")\n",
    "plt.ylabel(\"Temperature (c)\")\n",
    "#northernmost and southernmost cities.\n",
    "plt.xlim(-60,80)\n",
    "\n",
    "# Save the figure\n",
    "#plt.savefig(\"output_data/Fig1.png\")\n",
    "\n",
    "# Show plot\n",
    "plt.show()"
   ]
  },
  {
   "cell_type": "markdown",
   "metadata": {},
   "source": [
    "#### Latitude Vs. Humidity"
   ]
  },
  {
   "cell_type": "code",
   "execution_count": 13,
   "metadata": {},
   "outputs": [
    {
     "data": {
      "image/png": "[encoded data removed]",
      "text/plain": [
       "<Figure size 640x480 with 1 Axes>"
      ]
     },
     "metadata": {},
     "output_type": "display_data"
    }
   ],
   "source": [
    "# Build scatter plot for latitude vs. temperature\n",
    "x_axis = city_data_df[\"Lat\"]\n",
    "y_axis = city_data_df[\"Humidity\"]\n",
    "\n",
    "plt.scatter(x_axis, y_axis, color = 'r')\n",
    "# Incorporate the other graph properties\n",
    "\n",
    "plt.title(\"Latitude vs Humidity\")\n",
    "plt.xlabel(\"Latitude\")\n",
    "plt.ylabel(\"Humidity\")\n",
    "#northernmost and southernmost cities.\n",
    "plt.xlim(-60,80)\n",
    "\n",
    "# Save the figure\n",
    "#plt.savefig(\"output_data/Fig1.png\")\n",
    "\n",
    "# Show plot\n",
    "plt.show()"
   ]
  },
  {
   "cell_type": "markdown",
   "metadata": {},
   "source": [
    "#### Latitude Vs. Cloudiness"
   ]
  },
  {
   "cell_type": "code",
   "execution_count": 14,
   "metadata": {},
   "outputs": [
    {
     "data": {
      "image/png": "[encoded data removed]",
      "text/plain": [
       "<Figure size 640x480 with 1 Axes>"
      ]
     },
     "metadata": {},
     "output_type": "display_data"
    }
   ],
   "source": [
    "# Build scatter plot for latitude vs. temperature\n",
    "x_axis = city_data_df[\"Lat\"]\n",
    "y_axis = city_data_df[\"Cloudiness\"]\n",
    "\n",
    "plt.scatter(x_axis, y_axis, color = 'r')\n",
    "# Incorporate the other graph properties\n",
    "\n",
    "plt.title(\"Latitude vs Cloudiness\")\n",
    "plt.xlabel(\"Latitude\")\n",
    "plt.ylabel(\"Cloudiness\")\n",
    "#northernmost and southernmost cities.\n",
    "plt.xlim(-60,80)\n",
    "\n",
    "# Save the figure\n",
    "#plt.savefig(\"output_data/Fig1.png\")\n",
    "\n",
    "# Show plot\n",
    "plt.show()"
   ]
  },
  {
   "cell_type": "markdown",
   "metadata": {},
   "source": [
    "#### Latitude vs. Wind Speed Plot"
   ]
  },
  {
   "cell_type": "code",
   "execution_count": 15,
   "metadata": {},
   "outputs": [
    {
     "data": {
      "image/png": "[encoded data removed]",
      "text/plain": [
       "<Figure size 640x480 with 1 Axes>"
      ]
     },
     "metadata": {},
     "output_type": "display_data"
    }
   ],
   "source": [
    "# Build scatter plot for latitude vs. temperature\n",
    "x_axis = city_data_df[\"Lat\"]\n",
    "y_axis = city_data_df[\"Wind Speed\"]\n",
    "\n",
    "plt.scatter(x_axis, y_axis, color = 'r')\n",
    "# Incorporate the other graph properties\n",
    "\n",
    "plt.title(\"Latitude vs Wind Speed\")\n",
    "plt.xlabel(\"Latitude\")\n",
    "plt.ylabel(\"Wind Speed\")\n",
    "#northernmost and southernmost cities.\n",
    "plt.xlim(-60,80)\n",
    "\n",
    "# Save the figure\n",
    "#plt.savefig(\"output_data/Fig1.png\")\n",
    "\n",
    "# Show plot\n",
    "plt.show()"
   ]
  },
  {
   "cell_type": "markdown",
   "metadata": {},
   "source": [
    "---\n",
    "\n",
    "## Requirement 2: Compute Linear Regression for Each Relationship\n"
   ]
  },
  {
   "cell_type": "code",
   "execution_count": 16,
   "metadata": {},
   "outputs": [],
   "source": [
    "# Define a function to create Linear Regression plots\n",
    "\n",
    "def set_regression(x,y):\n",
    "    #generating values using scipy.stats.linregress() (3)\n",
    "    (slope, intercept, rvalue, pvalue, stderr) = linregress(x, y)\n",
    "    #creating regression formula in string format (3)\n",
    "    line_eq = f\"y = {str(round(slope,2))}x + {str(round(intercept,2))}\"\n",
    "\n",
    "    return line_eq, slope, intercept, rvalue, pvalue, stderr\n",
    "    "
   ]
  },
  {
   "cell_type": "code",
   "execution_count": 31,
   "metadata": {},
   "outputs": [
    {
     "data": {
      "text/html": [
       "<div>\n",
       "<style scoped>\n",
       "    .dataframe tbody tr th:only-of-type {\n",
       "        vertical-align: middle;\n",
       "    }\n",
       "\n",
       "    .dataframe tbody tr th {\n",
       "        vertical-align: top;\n",
       "    }\n",
       "\n",
       "    .dataframe thead th {\n",
       "        text-align: right;\n",
       "    }\n",
       "</style>\n",
       "<table border=\"1\" class=\"dataframe\">\n",
       "  <thead>\n",
       "    <tr style=\"text-align: right;\">\n",
       "      <th></th>\n",
       "      <th>City</th>\n",
       "      <th>Lat</th>\n",
       "      <th>Lng</th>\n",
       "      <th>Max Temp</th>\n",
       "      <th>Humidity</th>\n",
       "      <th>Cloudiness</th>\n",
       "      <th>Wind Speed</th>\n",
       "      <th>Country</th>\n",
       "      <th>Date</th>\n",
       "    </tr>\n",
       "    <tr>\n",
       "      <th>City_ID</th>\n",
       "      <th></th>\n",
       "      <th></th>\n",
       "      <th></th>\n",
       "      <th></th>\n",
       "      <th></th>\n",
       "      <th></th>\n",
       "      <th></th>\n",
       "      <th></th>\n",
       "      <th></th>\n",
       "    </tr>\n",
       "  </thead>\n",
       "  <tbody>\n",
       "    <tr>\n",
       "      <th>1</th>\n",
       "      <td>petropavlovsk-kamchatsky</td>\n",
       "      <td>53.0452</td>\n",
       "      <td>158.6483</td>\n",
       "      <td>3.33</td>\n",
       "      <td>45</td>\n",
       "      <td>75</td>\n",
       "      <td>3.00</td>\n",
       "      <td>RU</td>\n",
       "      <td>1730084064</td>\n",
       "    </tr>\n",
       "    <tr>\n",
       "      <th>2</th>\n",
       "      <td>richmond</td>\n",
       "      <td>37.5538</td>\n",
       "      <td>-77.4603</td>\n",
       "      <td>8.41</td>\n",
       "      <td>87</td>\n",
       "      <td>0</td>\n",
       "      <td>0.00</td>\n",
       "      <td>US</td>\n",
       "      <td>1730083801</td>\n",
       "    </tr>\n",
       "    <tr>\n",
       "      <th>3</th>\n",
       "      <td>shalqar</td>\n",
       "      <td>47.8333</td>\n",
       "      <td>59.6000</td>\n",
       "      <td>2.55</td>\n",
       "      <td>88</td>\n",
       "      <td>99</td>\n",
       "      <td>4.29</td>\n",
       "      <td>KZ</td>\n",
       "      <td>1730084068</td>\n",
       "    </tr>\n",
       "    <tr>\n",
       "      <th>4</th>\n",
       "      <td>college</td>\n",
       "      <td>64.8569</td>\n",
       "      <td>-147.8028</td>\n",
       "      <td>-13.01</td>\n",
       "      <td>82</td>\n",
       "      <td>40</td>\n",
       "      <td>2.57</td>\n",
       "      <td>US</td>\n",
       "      <td>1730084069</td>\n",
       "    </tr>\n",
       "    <tr>\n",
       "      <th>5</th>\n",
       "      <td>bethel</td>\n",
       "      <td>41.3712</td>\n",
       "      <td>-73.4140</td>\n",
       "      <td>6.30</td>\n",
       "      <td>55</td>\n",
       "      <td>100</td>\n",
       "      <td>1.44</td>\n",
       "      <td>US</td>\n",
       "      <td>1730084070</td>\n",
       "    </tr>\n",
       "    <tr>\n",
       "      <th>6</th>\n",
       "      <td>eyl</td>\n",
       "      <td>7.9803</td>\n",
       "      <td>49.8164</td>\n",
       "      <td>25.87</td>\n",
       "      <td>82</td>\n",
       "      <td>90</td>\n",
       "      <td>2.39</td>\n",
       "      <td>SO</td>\n",
       "      <td>1730084071</td>\n",
       "    </tr>\n",
       "    <tr>\n",
       "      <th>7</th>\n",
       "      <td>constantia</td>\n",
       "      <td>44.1833</td>\n",
       "      <td>28.6500</td>\n",
       "      <td>6.38</td>\n",
       "      <td>81</td>\n",
       "      <td>37</td>\n",
       "      <td>4.50</td>\n",
       "      <td>RO</td>\n",
       "      <td>1730084072</td>\n",
       "    </tr>\n",
       "  </tbody>\n",
       "</table>\n",
       "</div>"
      ],
      "text/plain": [
       "                             City      Lat       Lng  Max Temp  Humidity  \\\n",
       "City_ID                                                                    \n",
       "1        petropavlovsk-kamchatsky  53.0452  158.6483      3.33        45   \n",
       "2                        richmond  37.5538  -77.4603      8.41        87   \n",
       "3                         shalqar  47.8333   59.6000      2.55        88   \n",
       "4                         college  64.8569 -147.8028    -13.01        82   \n",
       "5                          bethel  41.3712  -73.4140      6.30        55   \n",
       "6                             eyl   7.9803   49.8164     25.87        82   \n",
       "7                      constantia  44.1833   28.6500      6.38        81   \n",
       "\n",
       "         Cloudiness  Wind Speed Country        Date  \n",
       "City_ID                                              \n",
       "1                75        3.00      RU  1730084064  \n",
       "2                 0        0.00      US  1730083801  \n",
       "3                99        4.29      KZ  1730084068  \n",
       "4                40        2.57      US  1730084069  \n",
       "5               100        1.44      US  1730084070  \n",
       "6                90        2.39      SO  1730084071  \n",
       "7                37        4.50      RO  1730084072  "
      ]
     },
     "execution_count": 31,
     "metadata": {},
     "output_type": "execute_result"
    }
   ],
   "source": [
    "# Create a DataFrame with the Northern Hemisphere data (Latitude >= 0) (4)\n",
    "northern_hemi_df = city_data_df.loc[(city_data_df[\"Lat\"]>= 0),:]\n",
    "\n",
    "# Display sample data\n",
    "northern_hemi_df.head(10)"
   ]
  },
  {
   "cell_type": "code",
   "execution_count": 32,
   "metadata": {},
   "outputs": [
    {
     "data": {
      "text/html": [
       "<div>\n",
       "<style scoped>\n",
       "    .dataframe tbody tr th:only-of-type {\n",
       "        vertical-align: middle;\n",
       "    }\n",
       "\n",
       "    .dataframe tbody tr th {\n",
       "        vertical-align: top;\n",
       "    }\n",
       "\n",
       "    .dataframe thead th {\n",
       "        text-align: right;\n",
       "    }\n",
       "</style>\n",
       "<table border=\"1\" class=\"dataframe\">\n",
       "  <thead>\n",
       "    <tr style=\"text-align: right;\">\n",
       "      <th></th>\n",
       "      <th>City</th>\n",
       "      <th>Lat</th>\n",
       "      <th>Lng</th>\n",
       "      <th>Max Temp</th>\n",
       "      <th>Humidity</th>\n",
       "      <th>Cloudiness</th>\n",
       "      <th>Wind Speed</th>\n",
       "      <th>Country</th>\n",
       "      <th>Date</th>\n",
       "    </tr>\n",
       "    <tr>\n",
       "      <th>City_ID</th>\n",
       "      <th></th>\n",
       "      <th></th>\n",
       "      <th></th>\n",
       "      <th></th>\n",
       "      <th></th>\n",
       "      <th></th>\n",
       "      <th></th>\n",
       "      <th></th>\n",
       "      <th></th>\n",
       "    </tr>\n",
       "  </thead>\n",
       "  <tbody>\n",
       "    <tr>\n",
       "      <th>0</th>\n",
       "      <td>santa rita</td>\n",
       "      <td>-7.1139</td>\n",
       "      <td>-34.9781</td>\n",
       "      <td>26.37</td>\n",
       "      <td>89</td>\n",
       "      <td>75</td>\n",
       "      <td>4.63</td>\n",
       "      <td>BR</td>\n",
       "      <td>1730084063</td>\n",
       "    </tr>\n",
       "    <tr>\n",
       "      <th>8</th>\n",
       "      <td>puerto natales</td>\n",
       "      <td>-51.7236</td>\n",
       "      <td>-72.4875</td>\n",
       "      <td>7.05</td>\n",
       "      <td>90</td>\n",
       "      <td>100</td>\n",
       "      <td>8.35</td>\n",
       "      <td>CL</td>\n",
       "      <td>1730084073</td>\n",
       "    </tr>\n",
       "  </tbody>\n",
       "</table>\n",
       "</div>"
      ],
      "text/plain": [
       "                   City      Lat      Lng  Max Temp  Humidity  Cloudiness  \\\n",
       "City_ID                                                                     \n",
       "0            santa rita  -7.1139 -34.9781     26.37        89          75   \n",
       "8        puerto natales -51.7236 -72.4875      7.05        90         100   \n",
       "\n",
       "         Wind Speed Country        Date  \n",
       "City_ID                                  \n",
       "0              4.63      BR  1730084063  \n",
       "8              8.35      CL  1730084073  "
      ]
     },
     "execution_count": 32,
     "metadata": {},
     "output_type": "execute_result"
    }
   ],
   "source": [
    "# Create a DataFrame with the Southern Hemisphere data (Latitude < 0) (4)\n",
    "southern_hemi_df = city_data_df.loc[(city_data_df[\"Lat\"]<= 0),:]\n",
    "\n",
    "# Display sample data\n",
    "southern_hemi_df.head()"
   ]
  },
  {
   "cell_type": "markdown",
   "metadata": {},
   "source": [
    "##  Temperature vs. Latitude Linear Regression Plot"
   ]
  },
  {
   "cell_type": "code",
   "execution_count": 44,
   "metadata": {},
   "outputs": [
    {
     "name": "stdout",
     "output_type": "stream",
     "text": [
      "The r^2 value is: 0.9418962917475706\n"
     ]
    },
    {
     "data": {
      "text/plain": [
       "Text(0, 0.5, 'Max Temp (c)')"
      ]
     },
     "execution_count": 44,
     "metadata": {},
     "output_type": "execute_result"
    },
    {
     "data": {
      "image/png": "[encoded data removed]",
      "text/plain": [
       "<Figure size 640x480 with 1 Axes>"
      ]
     },
     "metadata": {},
     "output_type": "display_data"
    }
   ],
   "source": [
    "# Linear regression on Northern Hemisphere\n",
    "x_values = northern_hemi_df[\"Lat\"]\n",
    "y_values = northern_hemi_df[\"Max Temp\"]\n",
    "#using function defined above to generate regression values from series in DataFrame (3)\n",
    "(line_eq, slope, intercept, rvalue, pvalue, stderr) = set_regression(x_values,y_values)\n",
    "#setting regression values (3)\n",
    "regress_values = x_values * slope + intercept\n",
    "\n",
    "#printing the regression r\n",
    "print(f\"The r^2 value is: {rvalue**2}\")\n",
    "\n",
    "plt.scatter(x_values,y_values)\n",
    "plt.plot(x_values,regress_values,\"r-\")\n",
    "#adding regression formula string to plot (3)\n",
    "plt.annotate(line_eq,(45,25),fontsize=10,color=\"red\")\n",
    "plt.title(\"Latitude vs Max Temp (c)\")\n",
    "plt.xlabel(\"Latitude\")\n",
    "plt.ylabel(\"Max Temp (c)\")\n"
   ]
  },
  {
   "cell_type": "code",
   "execution_count": 46,
   "metadata": {},
   "outputs": [
    {
     "data": {
      "text/plain": [
       "Text(0, 0.5, 'Max Temp')"
      ]
     },
     "execution_count": 46,
     "metadata": {},
     "output_type": "execute_result"
    },
    {
     "data": {
      "image/png": "[encoded data removed]",
      "text/plain": [
       "<Figure size 640x480 with 1 Axes>"
      ]
     },
     "metadata": {},
     "output_type": "display_data"
    }
   ],
   "source": [
    "# Linear regression on Southern Hemisphere\n",
    "x_values = southern_hemi_df[\"Lat\"]\n",
    "y_values = southern_hemi_df[\"Max Temp\"]\n",
    "#using function defined above to generate regression values from series in DataFrame (3)\n",
    "(line_eq, slope, intercept, rvalue, pvalue, stderr) = set_regression(x_values,y_values)\n",
    "#setting regression values (3)\n",
    "regress_values = x_values * slope + intercept\n",
    "\n",
    "#printing the regression r\n",
    "#print(f\"The r^2 value is: {rvalue**2}\")\n",
    "\n",
    "plt.scatter(x_values,y_values)\n",
    "plt.plot(x_values,regress_values,\"r-\")\n",
    "#adding regression formula string to plot (3)\n",
    "plt.annotate(line_eq,(-50,25),fontsize=10,color=\"red\")\n",
    "plt.title(\"Latitude vs Max Temp (c)\")\n",
    "plt.xlabel(\"Latitude\")\n",
    "plt.ylabel(\"Max Temp (c)\")"
   ]
  },
  {
   "cell_type": "markdown",
   "metadata": {},
   "source": [
    "**Discussion about the linear relationship:** YOUR RESPONSE HERE"
   ]
  },
  {
   "cell_type": "markdown",
   "metadata": {},
   "source": [
    "## Humidity vs. Latitude Linear Regression Plot"
   ]
  },
  {
   "cell_type": "code",
   "execution_count": 47,
   "metadata": {},
   "outputs": [
    {
     "name": "stdout",
     "output_type": "stream",
     "text": [
      "The r^2 value is: 0.03982453373431361\n"
     ]
    },
    {
     "data": {
      "text/plain": [
       "Text(0, 0.5, 'Humidity')"
      ]
     },
     "execution_count": 47,
     "metadata": {},
     "output_type": "execute_result"
    },
    {
     "data": {
      "image/png": "[encoded data removed]",
      "text/plain": [
       "<Figure size 640x480 with 1 Axes>"
      ]
     },
     "metadata": {},
     "output_type": "display_data"
    }
   ],
   "source": [
    "# Northern Hemisphere\n",
    "x_values = northern_hemi_df[\"Lat\"]\n",
    "y_values = northern_hemi_df[\"Humidity\"]\n",
    "#using function defined above to generate regression values from series in DataFrame (3)\n",
    "(line_eq, slope, intercept, rvalue, pvalue, stderr) = set_regression(x_values,y_values)\n",
    "#setting regression values (3)\n",
    "regress_values = x_values * slope + intercept\n",
    "\n",
    "#printing the regression r\n",
    "print(f\"The r^2 value is: {rvalue**2}\")\n",
    "\n",
    "plt.scatter(x_values,y_values)\n",
    "plt.plot(x_values,regress_values,\"r-\")\n",
    "#adding regression formula string to plot (3)\n",
    "plt.annotate(line_eq,(45,25),fontsize=10,color=\"red\")\n",
    "plt.title(\"Latitude vs Humidity\")\n",
    "plt.xlabel(\"Latitude\")\n",
    "plt.ylabel(\"Humidity\")"
   ]
  },
  {
   "cell_type": "code",
   "execution_count": 48,
   "metadata": {},
   "outputs": [
    {
     "name": "stdout",
     "output_type": "stream",
     "text": [
      "The r^2 value is: 1.0\n"
     ]
    },
    {
     "data": {
      "text/plain": [
       "Text(0, 0.5, 'Humidity')"
      ]
     },
     "execution_count": 48,
     "metadata": {},
     "output_type": "execute_result"
    },
    {
     "data": {
      "image/png": "[encoded data removed]",
      "text/plain": [
       "<Figure size 640x480 with 1 Axes>"
      ]
     },
     "metadata": {},
     "output_type": "display_data"
    }
   ],
   "source": [
    "# Southern Hemisphere\n",
    "x_values = southern_hemi_df[\"Lat\"]\n",
    "y_values = southern_hemi_df[\"Humidity\"]\n",
    "#using function defined above to generate regression values from series in DataFrame (3)\n",
    "(line_eq, slope, intercept, rvalue, pvalue, stderr) = set_regression(x_values,y_values)\n",
    "#setting regression values (3)\n",
    "regress_values = x_values * slope + intercept\n",
    "\n",
    "#printing the regression r\n",
    "print(f\"The r^2 value is: {rvalue**2}\")\n",
    "\n",
    "plt.scatter(x_values,y_values)\n",
    "plt.plot(x_values,regress_values,\"r-\")\n",
    "#adding regression formula string to plot (3)\n",
    "plt.annotate(line_eq,(45,25),fontsize=10,color=\"red\")\n",
    "plt.title(\"Latitude vs Humidity\")\n",
    "plt.xlabel(\"Latitude\")\n",
    "plt.ylabel(\"Humidity\")"
   ]
  },
  {
   "cell_type": "markdown",
   "metadata": {},
   "source": [
    "**Discussion about the linear relationship:** YOUR RESPONSE HERE"
   ]
  },
  {
   "cell_type": "markdown",
   "metadata": {},
   "source": [
    "## Cloudiness vs. Latitude Linear Regression Plot"
   ]
  },
  {
   "cell_type": "code",
   "execution_count": 49,
   "metadata": {},
   "outputs": [
    {
     "name": "stdout",
     "output_type": "stream",
     "text": [
      "The r^2 value is: 0.0501777781659899\n"
     ]
    },
    {
     "data": {
      "text/plain": [
       "Text(0, 0.5, 'Cloudiness')"
      ]
     },
     "execution_count": 49,
     "metadata": {},
     "output_type": "execute_result"
    },
    {
     "data": {
      "image/png": "[encoded data removed]",
      "text/plain": [
       "<Figure size 640x480 with 1 Axes>"
      ]
     },
     "metadata": {},
     "output_type": "display_data"
    }
   ],
   "source": [
    "# Northern Hemisphere\n",
    "x_values = northern_hemi_df[\"Lat\"]\n",
    "y_values = northern_hemi_df[\"Cloudiness\"]\n",
    "#using function defined above to generate regression values from series in DataFrame (3)\n",
    "(line_eq, slope, intercept, rvalue, pvalue, stderr) = set_regression(x_values,y_values)\n",
    "#setting regression values (3)\n",
    "regress_values = x_values * slope + intercept\n",
    "\n",
    "#printing the regression r\n",
    "print(f\"The r^2 value is: {rvalue**2}\")\n",
    "\n",
    "plt.scatter(x_values,y_values)\n",
    "plt.plot(x_values,regress_values,\"r-\")\n",
    "#adding regression formula string to plot (3)\n",
    "plt.annotate(line_eq,(45,25),fontsize=10,color=\"red\")\n",
    "plt.title(\"Latitude vs Cloudiness\")\n",
    "plt.xlabel(\"Latitude\")\n",
    "plt.ylabel(\"Cloudiness\")"
   ]
  },
  {
   "cell_type": "code",
   "execution_count": 50,
   "metadata": {},
   "outputs": [
    {
     "name": "stdout",
     "output_type": "stream",
     "text": [
      "The r^2 value is: 1.0\n"
     ]
    },
    {
     "data": {
      "text/plain": [
       "Text(0, 0.5, 'Cloudiness')"
      ]
     },
     "execution_count": 50,
     "metadata": {},
     "output_type": "execute_result"
    },
    {
     "data": {
      "image/png": "[encoded data removed]",
      "text/plain": [
       "<Figure size 640x480 with 1 Axes>"
      ]
     },
     "metadata": {},
     "output_type": "display_data"
    }
   ],
   "source": [
    "# Southern Hemisphere\n",
    "x_values = southern_hemi_df[\"Lat\"]\n",
    "y_values = southern_hemi_df[\"Cloudiness\"]\n",
    "#using function defined above to generate regression values from series in DataFrame (3)\n",
    "(line_eq, slope, intercept, rvalue, pvalue, stderr) = set_regression(x_values,y_values)\n",
    "#setting regression values (3)\n",
    "regress_values = x_values * slope + intercept\n",
    "\n",
    "#printing the regression r\n",
    "print(f\"The r^2 value is: {rvalue**2}\")\n",
    "\n",
    "plt.scatter(x_values,y_values)\n",
    "plt.plot(x_values,regress_values,\"r-\")\n",
    "#adding regression formula string to plot (3)\n",
    "plt.annotate(line_eq,(45,25),fontsize=10,color=\"red\")\n",
    "plt.title(\"Latitude vs Cloudiness\")\n",
    "plt.xlabel(\"Latitude\")\n",
    "plt.ylabel(\"Cloudiness\")"
   ]
  },
  {
   "cell_type": "markdown",
   "metadata": {},
   "source": [
    "**Discussion about the linear relationship:** YOUR RESPONSE HERE"
   ]
  },
  {
   "cell_type": "markdown",
   "metadata": {},
   "source": [
    "## Wind Speed vs. Latitude Linear Regression Plot"
   ]
  },
  {
   "cell_type": "code",
   "execution_count": null,
   "metadata": {},
   "outputs": [],
   "source": [
    "# Northern Hemisphere\n",
    "# YOUR CODE HERE"
   ]
  },
  {
   "cell_type": "code",
   "execution_count": null,
   "metadata": {},
   "outputs": [],
   "source": [
    "# Southern Hemisphere\n",
    "# YOUR CODE HERE"
   ]
  },
  {
   "cell_type": "markdown",
   "metadata": {},
   "source": [
    "**Discussion about the linear relationship:** YOUR RESPONSE HERE"
   ]
  },
  {
   "cell_type": "code",
   "execution_count": null,
   "metadata": {},
   "outputs": [],
   "source": []
  }
 ],
 "metadata": {
  "anaconda-cloud": {},
  "kernel_info": {
   "name": "python3"
  },
  "kernelspec": {
   "display_name": "Python 3 (ipykernel)",
   "language": "python",
   "name": "python3"
  },
  "language_info": {
   "codemirror_mode": {
    "name": "ipython",
    "version": 3
   },
   "file_extension": ".py",
   "mimetype": "text/x-python",
   "name": "python",
   "nbconvert_exporter": "python",
   "pygments_lexer": "ipython3",
   "version": "3.12.4"
  },
  "latex_envs": {
   "LaTeX_envs_menu_present": true,
   "autoclose": false,
   "autocomplete": true,
   "bibliofile": "biblio.bib",
   "cite_by": "apalike",
   "current_citInitial": 1,
   "eqLabelWithNumbers": true,
   "eqNumInitial": 1,
   "hotkeys": {
    "equation": "Ctrl-E",
    "itemize": "Ctrl-I"
   },
   "labels_anchors": false,
   "latex_user_defs": false,
   "report_style_numbering": false,
   "user_envs_cfg": false
  },
  "nteract": {
   "version": "0.12.3"
  }
 },
 "nbformat": 4,
 "nbformat_minor": 4
}

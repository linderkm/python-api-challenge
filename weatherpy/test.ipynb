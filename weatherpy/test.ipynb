{
 "cells": [
  {
   "cell_type": "code",
   "execution_count": 2,
   "id": "6cbadacb-5f33-475c-9a07-02d6d44b49fb",
   "metadata": {},
   "outputs": [],
   "source": [
    "import requests\n",
    "import json\n",
    "from pprint import pprint\n",
    "from api_keys import weather_api_key"
   ]
  },
  {
   "cell_type": "code",
   "execution_count": 8,
   "id": "26705dcc-79b5-49ef-a228-7353c12eb828",
   "metadata": {},
   "outputs": [],
   "source": [
    "base_url = \"https://api.openweathermap.org/data/2.5/weather\"\n",
    "\n",
    "test_city = \"Traverse City\"\n",
    "\n",
    "params = {\n",
    "    \"q\":test_city,\n",
    "    \"appid\":weather_api_key,\n",
    "    \"units\":'metric'\n",
    "}\n",
    "\n",
    "data = requests.get(base_url,params=params).json()"
   ]
  },
  {
   "cell_type": "code",
   "execution_count": 7,
   "id": "c487144e-ed19-4f7c-b2c0-61d1ed291e4d",
   "metadata": {},
   "outputs": [
    {
     "name": "stdout",
     "output_type": "stream",
     "text": [
      "{'base': 'stations',\n",
      " 'clouds': {'all': 75},\n",
      " 'cod': 200,\n",
      " 'coord': {'lat': 44.7631, 'lon': -85.6206},\n",
      " 'dt': 1729656167,\n",
      " 'id': 5012495,\n",
      " 'main': {'feels_like': 17.78,\n",
      "          'grnd_level': 981,\n",
      "          'humidity': 49,\n",
      "          'pressure': 1008,\n",
      "          'sea_level': 1008,\n",
      "          'temp': 18.59,\n",
      "          'temp_max': 19.04,\n",
      "          'temp_min': 17.79},\n",
      " 'name': 'Traverse City',\n",
      " 'sys': {'country': 'US',\n",
      "         'id': 6082,\n",
      "         'sunrise': 1729685331,\n",
      "         'sunset': 1729723459,\n",
      "         'type': 1},\n",
      " 'timezone': -14400,\n",
      " 'visibility': 10000,\n",
      " 'weather': [{'description': 'broken clouds',\n",
      "              'icon': '04n',\n",
      "              'id': 803,\n",
      "              'main': 'Clouds'}],\n",
      " 'wind': {'deg': 200, 'speed': 4.12}}\n"
     ]
    }
   ],
   "source": [
    "pprint(data)"
   ]
  },
  {
   "cell_type": "code",
   "execution_count": null,
   "id": "61e641aa-745f-46c9-b65f-0dfe3f73f364",
   "metadata": {},
   "outputs": [],
   "source": []
  }
 ],
 "metadata": {
  "kernelspec": {
   "display_name": "Python 3 (ipykernel)",
   "language": "python",
   "name": "python3"
  },
  "language_info": {
   "codemirror_mode": {
    "name": "ipython",
    "version": 3
   },
   "file_extension": ".py",
   "mimetype": "text/x-python",
   "name": "python",
   "nbconvert_exporter": "python",
   "pygments_lexer": "ipython3",
   "version": "3.12.4"
  }
 },
 "nbformat": 4,
 "nbformat_minor": 5
}
